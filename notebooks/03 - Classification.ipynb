{
 "cells": [
  {
   "cell_type": "markdown",
   "metadata": {},
   "source": [
    "# Classification"
   ]
  },
  {
   "cell_type": "markdown",
   "metadata": {},
   "source": [
    "Classification is the supervised learning task of predicting the value of a categorical outcome (\"class\") variable, _y_, given real and/or categorical input (\"feature\") data, _X_. The objective of classification is to learn a model of the data that can be use to predict the correct class variable for new or unseen feature data."
   ]
  },
  {
   "cell_type": "markdown",
   "metadata": {},
   "source": [
    "A variety of classification algorithms exist. These algorithms have been developed under varying assumptions and employ different concepts. Each algorithm may interact with data differently based upon the size, dimensionality, and noise of the dataset, among other characteristics. These algorithms may have varying degrees of interpretability, variability, and bias."
   ]
  },
  {
   "cell_type": "markdown",
   "metadata": {},
   "source": [
    "Here, we'll use the scikit-learn (sklearn) package to expore the use of several classification algorithms. Let's fetch the Iris dataset from the UCI Machine Learning repository."
   ]
  },
  {
   "cell_type": "code",
   "execution_count": 1,
   "metadata": {
    "collapsed": false
   },
   "outputs": [
    {
     "name": "stdout",
     "output_type": "stream",
     "text": [
      "   Sepal Length  Sepal Width\n",
      "0           5.1          3.5\n",
      "1           4.9          3.0\n",
      "2           4.7          3.2\n",
      "3           4.6          3.1\n",
      "4           5.0          3.6\n",
      "\n",
      "0    Iris-setosa\n",
      "1    Iris-setosa\n",
      "2    Iris-setosa\n",
      "3    Iris-setosa\n",
      "4    Iris-setosa\n",
      "Name: Name, dtype: object\n"
     ]
    }
   ],
   "source": [
    "import numpy as np\n",
    "import pandas as pd\n",
    "\n",
    "fileURL = 'http://archive.ics.uci.edu/ml/machine-learning-databases/iris/iris.data'\n",
    "data = pd.read_csv(fileURL, names=['Sepal Length', 'Sepal Width', 'Petal Length', 'Petal Width', 'Name'], header=None)\n",
    "\n",
    "X = data.iloc[:, :2]  # features\n",
    "y = data.iloc[:, -1]  # class\n",
    "\n",
    "print(X.head())\n",
    "print()\n",
    "print(y.head())"
   ]
  },
  {
   "cell_type": "code",
   "execution_count": 2,
   "metadata": {
    "collapsed": false
   },
   "outputs": [
    {
     "name": "stdout",
     "output_type": "stream",
     "text": [
      "[0 0 0 0 0 0 0 0 0 0 0 0 0 0 0 0 0 0 0 0 0 0 0 0 0 0 0 0 0 0 0 0 0 0 0 0 0\n",
      " 0 0 0 0 0 0 0 0 0 0 0 0 0 1 1 1 1 1 1 1 1 1 1 1 1 1 1 1 1 1 1 1 1 1 1 1 1\n",
      " 1 1 1 1 1 1 1 1 1 1 1 1 1 1 1 1 1 1 1 1 1 1 1 1 1 1 2 2 2 2 2 2 2 2 2 2 2\n",
      " 2 2 2 2 2 2 2 2 2 2 2 2 2 2 2 2 2 2 2 2 2 2 2 2 2 2 2 2 2 2 2 2 2 2 2 2 2\n",
      " 2 2]\n"
     ]
    }
   ],
   "source": [
    "from sklearn.preprocessing import LabelEncoder\n",
    "\n",
    "le = LabelEncoder()\n",
    "le.fit(y)\n",
    "y = le.transform(y)\n",
    "print(y)"
   ]
  },
  {
   "cell_type": "markdown",
   "metadata": {},
   "source": [
    "## _k_-Nearest Neighbors"
   ]
  },
  {
   "cell_type": "markdown",
   "metadata": {},
   "source": [
    "One of the simplest classification algorithms is the _k_-nearest neighbors algorithm. Let's import it from `sklearn`. We can call the method with several available inputs. Here, we specify the number of neighbors _k_ to consider."
   ]
  },
  {
   "cell_type": "code",
   "execution_count": 3,
   "metadata": {
    "collapsed": false
   },
   "outputs": [],
   "source": [
    "from sklearn.neighbors import KNeighborsClassifier\n",
    "\n",
    "clf_knn = KNeighborsClassifier(n_neighbors=3)"
   ]
  },
  {
   "cell_type": "markdown",
   "metadata": {},
   "source": [
    "Every classifier in `sklearn` has a `fit()` method. For a supervised learning algorithm, which learns to map features _X_ to classes _y_, we must input the corresponding _X_ and _y_ data."
   ]
  },
  {
   "cell_type": "code",
   "execution_count": 4,
   "metadata": {
    "collapsed": false
   },
   "outputs": [
    {
     "data": {
      "text/plain": [
       "KNeighborsClassifier(algorithm='auto', leaf_size=30, metric='minkowski',\n",
       "           metric_params=None, n_jobs=1, n_neighbors=3, p=2,\n",
       "           weights='uniform')"
      ]
     },
     "execution_count": 4,
     "metadata": {},
     "output_type": "execute_result"
    }
   ],
   "source": [
    "clf_knn.fit(X, y)"
   ]
  },
  {
   "cell_type": "markdown",
   "metadata": {},
   "source": [
    "We call an algorithm fit (or parameterized) to input data a \"model.\" Can now use the fitted model to predict the class _y_ given new features _X_."
   ]
  },
  {
   "cell_type": "markdown",
   "metadata": {},
   "source": [
    "Here, we'll simply see how well the classifier can predict the data on which it was fit. We can predict on feature data using the fitted model's `predict()` method, the output of which are corresponding class predictions:"
   ]
  },
  {
   "cell_type": "code",
   "execution_count": 5,
   "metadata": {
    "collapsed": false
   },
   "outputs": [
    {
     "name": "stdout",
     "output_type": "stream",
     "text": [
      "[0 0 0 0 0 0 0 0 0 0 0 0 0 0 0 0 0 0 0 0 0 0 0 0 0 0 0 0 0 0 0 0 0 0 0 0 0\n",
      " 0 0 0 0 0 0 0 0 0 0 0 0 0 2 2 2 1 2 1 2 1 1 1 1 2 1 1 1 1 1 2 1 1 1 1 1 1\n",
      " 2 2 2 2 1 1 1 1 2 1 1 1 1 1 1 1 1 2 1 1 1 1 1 2 1 1 2 2 2 2 2 2 1 2 1 2 2\n",
      " 2 2 1 2 2 2 2 2 1 2 1 2 2 2 2 2 2 2 2 2 2 2 2 1 2 2 2 2 2 1 2 2 2 2 2 1 2\n",
      " 2 2]\n"
     ]
    },
    {
     "data": {
      "text/plain": [
       "(array([[ 0.        ,  0.        ,  0.1       ],\n",
       "        [ 0.        ,  0.1       ,  0.1       ],\n",
       "        [ 0.        ,  0.        ,  0.1       ],\n",
       "        [ 0.        ,  0.1       ,  0.14142136],\n",
       "        [ 0.        ,  0.1       ,  0.1       ],\n",
       "        [ 0.        ,  0.        ,  0.2       ],\n",
       "        [ 0.        ,  0.2       ,  0.2       ],\n",
       "        [ 0.        ,  0.        ,  0.1       ],\n",
       "        [ 0.        ,  0.1       ,  0.14142136],\n",
       "        [ 0.        ,  0.        ,  0.        ],\n",
       "        [ 0.        ,  0.1       ,  0.2       ],\n",
       "        [ 0.        ,  0.        ,  0.2       ],\n",
       "        [ 0.        ,  0.        ,  0.1       ],\n",
       "        [ 0.        ,  0.1       ,  0.14142136],\n",
       "        [ 0.        ,  0.2236068 ,  0.36055513],\n",
       "        [ 0.        ,  0.28284271,  0.41231056],\n",
       "        [ 0.        ,  0.        ,  0.2       ],\n",
       "        [ 0.        ,  0.        ,  0.1       ],\n",
       "        [ 0.        ,  0.2236068 ,  0.31622777],\n",
       "        [ 0.        ,  0.        ,  0.        ],\n",
       "        [ 0.        ,  0.        ,  0.14142136],\n",
       "        [ 0.        ,  0.1       ,  0.1       ],\n",
       "        [ 0.        ,  0.2       ,  0.28284271],\n",
       "        [ 0.        ,  0.1       ,  0.1       ],\n",
       "        [ 0.        ,  0.        ,  0.2       ],\n",
       "        [ 0.        ,  0.1       ,  0.14142136],\n",
       "        [ 0.        ,  0.        ,  0.1       ],\n",
       "        [ 0.        ,  0.1       ,  0.1       ],\n",
       "        [ 0.        ,  0.1       ,  0.1       ],\n",
       "        [ 0.        ,  0.        ,  0.1       ],\n",
       "        [ 0.        ,  0.1       ,  0.1       ],\n",
       "        [ 0.        ,  0.        ,  0.14142136],\n",
       "        [ 0.        ,  0.28284271,  0.28284271],\n",
       "        [ 0.        ,  0.28284271,  0.31622777],\n",
       "        [ 0.        ,  0.        ,  0.        ],\n",
       "        [ 0.        ,  0.1       ,  0.14142136],\n",
       "        [ 0.        ,  0.14142136,  0.14142136],\n",
       "        [ 0.        ,  0.        ,  0.        ],\n",
       "        [ 0.        ,  0.1       ,  0.1       ],\n",
       "        [ 0.        ,  0.1       ,  0.1       ],\n",
       "        [ 0.        ,  0.        ,  0.1       ],\n",
       "        [ 0.        ,  0.41231056,  0.4472136 ],\n",
       "        [ 0.        ,  0.2       ,  0.2       ],\n",
       "        [ 0.        ,  0.        ,  0.1       ],\n",
       "        [ 0.        ,  0.        ,  0.        ],\n",
       "        [ 0.        ,  0.        ,  0.1       ],\n",
       "        [ 0.        ,  0.        ,  0.        ],\n",
       "        [ 0.        ,  0.1       ,  0.1       ],\n",
       "        [ 0.        ,  0.1       ,  0.2       ],\n",
       "        [ 0.        ,  0.1       ,  0.1       ],\n",
       "        [ 0.        ,  0.1       ,  0.14142136],\n",
       "        [ 0.        ,  0.        ,  0.1       ],\n",
       "        [ 0.        ,  0.        ,  0.        ],\n",
       "        [ 0.        ,  0.1       ,  0.1       ],\n",
       "        [ 0.        ,  0.1       ,  0.1       ],\n",
       "        [ 0.        ,  0.        ,  0.1       ],\n",
       "        [ 0.        ,  0.        ,  0.1       ],\n",
       "        [ 0.        ,  0.1       ,  0.14142136],\n",
       "        [ 0.        ,  0.1       ,  0.14142136],\n",
       "        [ 0.        ,  0.2236068 ,  0.31622777],\n",
       "        [ 0.        ,  0.3       ,  0.41231056],\n",
       "        [ 0.        ,  0.        ,  0.1       ],\n",
       "        [ 0.        ,  0.        ,  0.2       ],\n",
       "        [ 0.        ,  0.1       ,  0.1       ],\n",
       "        [ 0.        ,  0.1       ,  0.1       ],\n",
       "        [ 0.        ,  0.        ,  0.        ],\n",
       "        [ 0.        ,  0.        ,  0.1       ],\n",
       "        [ 0.        ,  0.        ,  0.        ],\n",
       "        [ 0.        ,  0.14142136,  0.2       ],\n",
       "        [ 0.        ,  0.1       ,  0.1       ],\n",
       "        [ 0.        ,  0.2       ,  0.2       ],\n",
       "        [ 0.        ,  0.        ,  0.1       ],\n",
       "        [ 0.        ,  0.        ,  0.2       ],\n",
       "        [ 0.        ,  0.        ,  0.1       ],\n",
       "        [ 0.        ,  0.1       ,  0.1       ],\n",
       "        [ 0.        ,  0.1       ,  0.1       ],\n",
       "        [ 0.        ,  0.2       ,  0.2236068 ],\n",
       "        [ 0.        ,  0.        ,  0.1       ],\n",
       "        [ 0.        ,  0.1       ,  0.1       ],\n",
       "        [ 0.        ,  0.1       ,  0.1       ],\n",
       "        [ 0.        ,  0.        ,  0.1       ],\n",
       "        [ 0.        ,  0.        ,  0.1       ],\n",
       "        [ 0.        ,  0.        ,  0.        ],\n",
       "        [ 0.        ,  0.14142136,  0.14142136],\n",
       "        [ 0.        ,  0.2       ,  0.2       ],\n",
       "        [ 0.        ,  0.2       ,  0.2236068 ],\n",
       "        [ 0.        ,  0.        ,  0.        ],\n",
       "        [ 0.        ,  0.14142136,  0.2       ],\n",
       "        [ 0.        ,  0.        ,  0.1       ],\n",
       "        [ 0.        ,  0.1       ,  0.1       ],\n",
       "        [ 0.        ,  0.1       ,  0.14142136],\n",
       "        [ 0.        ,  0.        ,  0.1       ],\n",
       "        [ 0.        ,  0.1       ,  0.1       ],\n",
       "        [ 0.        ,  0.14142136,  0.2236068 ],\n",
       "        [ 0.        ,  0.1       ,  0.14142136],\n",
       "        [ 0.        ,  0.1       ,  0.1       ],\n",
       "        [ 0.        ,  0.1       ,  0.1       ],\n",
       "        [ 0.        ,  0.1       ,  0.1       ],\n",
       "        [ 0.        ,  0.2       ,  0.2236068 ],\n",
       "        [ 0.        ,  0.        ,  0.1       ],\n",
       "        [ 0.        ,  0.        ,  0.1       ],\n",
       "        [ 0.        ,  0.        ,  0.        ],\n",
       "        [ 0.        ,  0.1       ,  0.2236068 ],\n",
       "        [ 0.        ,  0.1       ,  0.1       ],\n",
       "        [ 0.        ,  0.        ,  0.        ],\n",
       "        [ 0.        ,  0.1       ,  0.2236068 ],\n",
       "        [ 0.        ,  0.1       ,  0.2       ],\n",
       "        [ 0.        ,  0.14142136,  0.14142136],\n",
       "        [ 0.        ,  0.31622777,  0.36055513],\n",
       "        [ 0.        ,  0.4       ,  0.4472136 ],\n",
       "        [ 0.        ,  0.1       ,  0.1       ],\n",
       "        [ 0.        ,  0.1       ,  0.1       ],\n",
       "        [ 0.        ,  0.1       ,  0.1       ],\n",
       "        [ 0.        ,  0.1       ,  0.1       ],\n",
       "        [ 0.        ,  0.1       ,  0.1       ],\n",
       "        [ 0.        ,  0.        ,  0.1       ],\n",
       "        [ 0.        ,  0.        ,  0.        ],\n",
       "        [ 0.        ,  0.2       ,  0.53851648],\n",
       "        [ 0.        ,  0.2       ,  0.36055513],\n",
       "        [ 0.        ,  0.        ,  0.2       ],\n",
       "        [ 0.        ,  0.1       ,  0.1       ],\n",
       "        [ 0.        ,  0.1       ,  0.1       ],\n",
       "        [ 0.        ,  0.2       ,  0.2       ],\n",
       "        [ 0.        ,  0.1       ,  0.1       ],\n",
       "        [ 0.        ,  0.        ,  0.14142136],\n",
       "        [ 0.        ,  0.2       ,  0.2       ],\n",
       "        [ 0.        ,  0.1       ,  0.1       ],\n",
       "        [ 0.        ,  0.        ,  0.1       ],\n",
       "        [ 0.        ,  0.        ,  0.1       ],\n",
       "        [ 0.        ,  0.1       ,  0.14142136],\n",
       "        [ 0.        ,  0.14142136,  0.28284271],\n",
       "        [ 0.        ,  0.2       ,  0.72801099],\n",
       "        [ 0.        ,  0.        ,  0.1       ],\n",
       "        [ 0.        ,  0.1       ,  0.1       ],\n",
       "        [ 0.        ,  0.14142136,  0.2       ],\n",
       "        [ 0.        ,  0.1       ,  0.2       ],\n",
       "        [ 0.        ,  0.1       ,  0.1       ],\n",
       "        [ 0.        ,  0.1       ,  0.1       ],\n",
       "        [ 0.        ,  0.1       ,  0.1       ],\n",
       "        [ 0.        ,  0.        ,  0.        ],\n",
       "        [ 0.        ,  0.        ,  0.        ],\n",
       "        [ 0.        ,  0.        ,  0.        ],\n",
       "        [ 0.        ,  0.        ,  0.        ],\n",
       "        [ 0.        ,  0.1       ,  0.14142136],\n",
       "        [ 0.        ,  0.        ,  0.14142136],\n",
       "        [ 0.        ,  0.        ,  0.1       ],\n",
       "        [ 0.        ,  0.        ,  0.2       ],\n",
       "        [ 0.        ,  0.        ,  0.        ],\n",
       "        [ 0.        ,  0.1       ,  0.14142136],\n",
       "        [ 0.        ,  0.        ,  0.1       ]]), array([[ 17,   0,  40],\n",
       "        [  1,  25,  37],\n",
       "        [  2,  29,  47],\n",
       "        [  3,  47,  29],\n",
       "        [  4,  43,  40],\n",
       "        [ 16,   5,  10],\n",
       "        [  6,  47,  22],\n",
       "        [  7,  26,  39],\n",
       "        [  8,  38,  13],\n",
       "        [  9,  34,  37],\n",
       "        [ 10,  48,  16],\n",
       "        [ 11,  24,   6],\n",
       "        [ 45,  12,  30],\n",
       "        [ 13,  38,   8],\n",
       "        [ 14,  18,  33],\n",
       "        [ 15,  33,  14],\n",
       "        [ 16,   5,  10],\n",
       "        [ 17,   0,  40],\n",
       "        [ 18,  14,  10],\n",
       "        [ 44,  46,  19],\n",
       "        [ 31,  20,  36],\n",
       "        [ 21,  46,  19],\n",
       "        [ 22,   6,  11],\n",
       "        [ 23,  49,  39],\n",
       "        [ 11,  24,   6],\n",
       "        [ 25,   1,  37],\n",
       "        [  7,  26,  39],\n",
       "        [ 27,  28,   0],\n",
       "        [ 28,  27,  39],\n",
       "        [  2,  29,  47],\n",
       "        [ 30,  45,  12],\n",
       "        [ 31,  20,  36],\n",
       "        [ 32,  16,   5],\n",
       "        [ 33,  15,  32],\n",
       "        [  9,  34,  37],\n",
       "        [ 35,  49,  23],\n",
       "        [ 36,  20,  31],\n",
       "        [  9,  34,  37],\n",
       "        [ 38,   8,  13],\n",
       "        [ 39,  26,   7],\n",
       "        [ 40,  43,  17],\n",
       "        [ 41,  57, 106],\n",
       "        [ 42,  47,  38],\n",
       "        [ 40,  43,  17],\n",
       "        [ 44,  46,  19],\n",
       "        [ 45,  12,  30],\n",
       "        [ 44,  46,  19],\n",
       "        [ 47,   3,  29],\n",
       "        [ 48,  10,  21],\n",
       "        [ 49,  23,  35],\n",
       "        [ 50, 120, 139],\n",
       "        [115,  51, 110],\n",
       "        [ 52, 139, 141],\n",
       "        [ 53,  81,  80],\n",
       "        [ 54, 128, 132],\n",
       "        [ 99,  55, 114],\n",
       "        [ 56, 100, 136],\n",
       "        [ 57, 106,  93],\n",
       "        [ 58,  75, 116],\n",
       "        [ 59,  98,  90],\n",
       "        [ 60,  93,  57],\n",
       "        [149,  61, 138],\n",
       "        [ 62, 119,  68],\n",
       "        [ 63,  78,  91],\n",
       "        [ 64,  66, 121],\n",
       "        [140,  86,  65],\n",
       "        [ 88,  66,  64],\n",
       "        [101,  82, 142],\n",
       "        [ 68,  87, 119],\n",
       "        [ 69,  89, 113],\n",
       "        [ 70, 149,  61],\n",
       "        [ 71,  73,  63],\n",
       "        [ 72, 146,  87],\n",
       "        [ 71,  73,  63],\n",
       "        [ 74, 128, 132],\n",
       "        [ 75, 104, 116],\n",
       "        [ 76, 112, 145],\n",
       "        [ 77, 145, 112],\n",
       "        [ 78,  63, 138],\n",
       "        [ 79,  92, 113],\n",
       "        [ 80,  81,  53],\n",
       "        [ 80,  81,  53],\n",
       "        [101,  82, 142],\n",
       "        [ 83,  73,  71],\n",
       "        [ 84,  88,  66],\n",
       "        [ 85, 148,  70],\n",
       "        [140,  86,  65],\n",
       "        [ 87,  68,  72],\n",
       "        [ 88,  66,  64],\n",
       "        [ 89,  69,  80],\n",
       "        [ 90,  89,  69],\n",
       "        [127,  91, 138],\n",
       "        [ 92,  79,  82],\n",
       "        [ 93,  57,  98],\n",
       "        [ 94, 121,  90],\n",
       "        [ 95,  96,  66],\n",
       "        [ 96,  99,  55],\n",
       "        [ 97, 103, 126],\n",
       "        [ 98, 106,  57],\n",
       "        [ 99,  55, 114],\n",
       "        [ 56, 100, 136],\n",
       "        [101,  82, 142],\n",
       "        [102, 129, 139],\n",
       "        [103,  97, 133],\n",
       "        [147, 104, 116],\n",
       "        [105, 135, 122],\n",
       "        [106,  57,  98],\n",
       "        [107, 129, 130],\n",
       "        [108,  76,  54],\n",
       "        [109, 125,  50],\n",
       "        [110,  51, 115],\n",
       "        [111, 128, 132],\n",
       "        [112,  77, 145],\n",
       "        [113,  79,  69],\n",
       "        [114,  82, 142],\n",
       "        [115,  51, 110],\n",
       "        [147, 104, 116],\n",
       "        [117, 131, 109],\n",
       "        [118, 122, 130],\n",
       "        [ 62, 119,  68],\n",
       "        [120,  50, 139],\n",
       "        [121,  94,  64],\n",
       "        [122, 118, 135],\n",
       "        [123, 133, 111],\n",
       "        [124, 144, 143],\n",
       "        [125,  50, 129],\n",
       "        [126, 133,  97],\n",
       "        [127,  91, 138],\n",
       "        [132, 128, 111],\n",
       "        [129, 102, 107],\n",
       "        [130, 107, 105],\n",
       "        [131, 117, 109],\n",
       "        [132, 128, 111],\n",
       "        [133, 126, 123],\n",
       "        [134,  83,  71],\n",
       "        [135, 105, 122],\n",
       "        [136, 148, 100],\n",
       "        [137, 115,  51],\n",
       "        [138, 149,  61],\n",
       "        [ 52, 139, 141],\n",
       "        [140,  86,  65],\n",
       "        [ 52, 139, 141],\n",
       "        [101,  82, 142],\n",
       "        [143, 120, 124],\n",
       "        [124, 144, 143],\n",
       "        [ 77, 145, 112],\n",
       "        [ 72, 146,  87],\n",
       "        [147, 104, 116],\n",
       "        [148, 136, 100],\n",
       "        [149,  61, 138]]))"
      ]
     },
     "execution_count": 5,
     "metadata": {},
     "output_type": "execute_result"
    }
   ],
   "source": [
    "y_pred = clf_knn.predict(X)\n",
    "print(y_pred)\n",
    "clf_knn.kneighbors(X)"
   ]
  },
  {
   "cell_type": "markdown",
   "metadata": {},
   "source": [
    "We can compare the actual values, `y`, to the predicted values, `y_pred`. Here we compute the fraction of times that they match:"
   ]
  },
  {
   "cell_type": "code",
   "execution_count": 6,
   "metadata": {
    "collapsed": false
   },
   "outputs": [
    {
     "name": "stdout",
     "output_type": "stream",
     "text": [
      "0.853333333333\n"
     ]
    }
   ],
   "source": [
    "print(np.average(y == y_pred))"
   ]
  },
  {
   "cell_type": "code",
   "execution_count": 7,
   "metadata": {
    "collapsed": false
   },
   "outputs": [
    {
     "name": "stdout",
     "output_type": "stream",
     "text": [
      "Sepal Length    6.4\n",
      "Sepal Width     3.2\n",
      "Name: 51, dtype: object Iris-versicolor\n",
      "\n",
      "Sepal Length    6.4\n",
      "Sepal Width     3.2\n",
      "Name: 115, dtype: object Iris-virginica\n"
     ]
    }
   ],
   "source": [
    "print(data.iloc[51, 0:2], data.iloc[51, -1])\n",
    "print()\n",
    "print(data.iloc[115, 0:2], data.iloc[115, -1])"
   ]
  },
  {
   "cell_type": "markdown",
   "metadata": {},
   "source": [
    "Let's try visualizing the results. We can use another Python package, `matplotlib`, to generate these visualizations."
   ]
  },
  {
   "cell_type": "code",
   "execution_count": 8,
   "metadata": {
    "collapsed": false
   },
   "outputs": [],
   "source": [
    "import matplotlib.pyplot as plt\n",
    "from matplotlib.colors import ListedColormap\n",
    "% matplotlib inline"
   ]
  },
  {
   "cell_type": "code",
   "execution_count": 9,
   "metadata": {
    "collapsed": false
   },
   "outputs": [],
   "source": [
    "h = .02  # step size in the mesh\n",
    "\n",
    "# Create color maps\n",
    "cmap_light = ListedColormap(['#FFAAAA', '#AAFFAA', '#AAAAFF'])\n",
    "cmap_bold = ListedColormap(['#FF0000', '#00FF00', '#0000FF'])"
   ]
  },
  {
   "cell_type": "code",
   "execution_count": 10,
   "metadata": {
    "collapsed": false
   },
   "outputs": [
    {
     "data": {
      "text/plain": [
       "<matplotlib.text.Text at 0x119fcb978>"
      ]
     },
     "execution_count": 10,
     "metadata": {},
     "output_type": "execute_result"
    },
    {
     "data": {
      "image/png": "[encoded data removed]",
      "text/plain": [
       "<matplotlib.figure.Figure at 0x1191c8ef0>"
      ]
     },
     "metadata": {},
     "output_type": "display_data"
    }
   ],
   "source": [
    "# Plot the decision boundary. For that, we will assign a color to each\n",
    "# point in the mesh [x_min, m_max]x[y_min, y_max].\n",
    "x_min, x_max = X.iloc[:, 0].min() - 1, X.iloc[:, 0].max() + 1\n",
    "y_min, y_max = X.iloc[:, 1].min() - 1, X.iloc[:, 1].max() + 1\n",
    "xx, yy = np.meshgrid(np.arange(x_min, x_max, h),\n",
    "                     np.arange(y_min, y_max, h))\n",
    "Z = clf_knn.predict(np.c_[xx.ravel(), yy.ravel()])\n",
    "\n",
    "# Put the result into a color plot\n",
    "Z = Z.reshape(xx.shape)\n",
    "plt.figure()\n",
    "plt.pcolormesh(xx, yy, Z, cmap=cmap_light)\n",
    "\n",
    "# Plot also the training points\n",
    "plt.scatter(X.iloc[:, 0], X.iloc[:, 1], c=y, cmap=cmap_bold)\n",
    "plt.xlim(xx.min(), xx.max())\n",
    "plt.ylim(yy.min(), yy.max())\n",
    "plt.title(\"3-Nearest Neighbors\")"
   ]
  },
  {
   "cell_type": "markdown",
   "metadata": {},
   "source": [
    "Let's try fitting an visualizing another classifier, Gaussian Naive Byaes."
   ]
  },
  {
   "cell_type": "code",
   "execution_count": 11,
   "metadata": {
    "collapsed": false
   },
   "outputs": [
    {
     "data": {
      "text/plain": [
       "<matplotlib.text.Text at 0x1197e3e80>"
      ]
     },
     "execution_count": 11,
     "metadata": {},
     "output_type": "execute_result"
    },
    {
     "data": {
      "image/png": "[encoded data removed]",
      "text/plain": [
       "<matplotlib.figure.Figure at 0x119fc4cc0>"
      ]
     },
     "metadata": {},
     "output_type": "display_data"
    }
   ],
   "source": [
    "from sklearn.naive_bayes import GaussianNB\n",
    "\n",
    "clf_gnb = GaussianNB()\n",
    "clf_gnb.fit(X, y)\n",
    "\n",
    "# Plot the decision boundary. For that, we will assign a color to each\n",
    "# point in the mesh [x_min, m_max]x[y_min, y_max].\n",
    "x_min, x_max = X.iloc[:, 0].min() - 1, X.iloc[:, 0].max() + 1\n",
    "y_min, y_max = X.iloc[:, 1].min() - 1, X.iloc[:, 1].max() + 1\n",
    "xx, yy = np.meshgrid(np.arange(x_min, x_max, h),\n",
    "                     np.arange(y_min, y_max, h))\n",
    "Z = clf_gnb.predict(np.c_[xx.ravel(), yy.ravel()])\n",
    "\n",
    "# Put the result into a color plot\n",
    "Z = Z.reshape(xx.shape)\n",
    "plt.figure()\n",
    "plt.pcolormesh(xx, yy, Z, cmap=cmap_light)\n",
    "\n",
    "# Plot also the training points\n",
    "plt.scatter(X.iloc[:, 0], X.iloc[:, 1], c=y, cmap=cmap_bold)\n",
    "plt.xlim(xx.min(), xx.max())\n",
    "plt.ylim(yy.min(), yy.max())\n",
    "plt.title(\"Gaussian Naive Bayes\")"
   ]
  },
  {
   "cell_type": "markdown",
   "metadata": {},
   "source": [
    "Now, when building a model, we're typically interested in performance on data we haven't yet seen. A simple model that simply memorizes the training data may perform well on the data we've seen but poorly on unseen data. Unless we can evaluate a model on unseen data, we don't know how accurate its predictions may be.\n",
    "\n",
    "To address this issue, we can separate the data into training and testing sets. We can fit the model on the training data and then evaluate it on the separate testing data. `sklearn` provides a convenient function to do this. Let's save 20% of our data for testing, and use the rest for fitting our models."
   ]
  },
  {
   "cell_type": "code",
   "execution_count": 12,
   "metadata": {
    "collapsed": false
   },
   "outputs": [
    {
     "name": "stdout",
     "output_type": "stream",
     "text": [
      "0.733333333333\n",
      "0.7\n"
     ]
    }
   ],
   "source": [
    "from sklearn.model_selection import train_test_split\n",
    "X_train, X_test, y_train, y_test = train_test_split(X, y, test_size=0.2)\n",
    "\n",
    "clf_knn.fit(X_train, y_train)\n",
    "clf_gnb.fit(X_train, y_train)\n",
    "\n",
    "y_pred_knn = clf_knn.predict(X_test)\n",
    "y_pred_gnb = clf_gnb.predict(X_test)\n",
    "\n",
    "print(np.average(y_test == y_pred_knn))\n",
    "print(np.average(y_test == y_pred_gnb))"
   ]
  },
  {
   "cell_type": "markdown",
   "metadata": {
    "collapsed": false
   },
   "source": [
    "## Housing Dataset"
   ]
  },
  {
   "cell_type": "markdown",
   "metadata": {},
   "source": [
    "Let's practice applying what we've learned to a house price dataset for Ames, Iowa."
   ]
  },
  {
   "cell_type": "code",
   "execution_count": 13,
   "metadata": {
    "collapsed": false
   },
   "outputs": [
    {
     "name": "stdout",
     "output_type": "stream",
     "text": [
      "   Order        PID  MS SubClass MS Zoning  Lot Frontage  Lot Area Street  \\\n",
      "0      1  526301100           20        RL           141     31770   Pave   \n",
      "1      2  526350040           20        RH            80     11622   Pave   \n",
      "2      3  526351010           20        RL            81     14267   Pave   \n",
      "3      4  526353030           20        RL            93     11160   Pave   \n",
      "4      5  527105010           60        RL            74     13830   Pave   \n",
      "\n",
      "  Alley Lot Shape Land Contour    ...     Pool Area Pool QC  Fence  \\\n",
      "0   NaN       IR1          Lvl    ...             0     NaN    NaN   \n",
      "1   NaN       Reg          Lvl    ...             0     NaN  MnPrv   \n",
      "2   NaN       IR1          Lvl    ...             0     NaN    NaN   \n",
      "3   NaN       Reg          Lvl    ...             0     NaN    NaN   \n",
      "4   NaN       IR1          Lvl    ...             0     NaN  MnPrv   \n",
      "\n",
      "  Misc Feature Misc Val Mo Sold Yr Sold Sale Type  Sale Condition  SalePrice  \n",
      "0          NaN        0       5    2010       WD           Normal     215000  \n",
      "1          NaN        0       6    2010       WD           Normal     105000  \n",
      "2         Gar2    12500       6    2010       WD           Normal     172000  \n",
      "3          NaN        0       4    2010       WD           Normal     244000  \n",
      "4          NaN        0       3    2010       WD           Normal     189900  \n",
      "\n",
      "[5 rows x 82 columns]\n"
     ]
    }
   ],
   "source": [
    "df_houses = pd.read_excel('http://www.amstat.org/publications/jse/v19n3/decock/AmesHousing.xls')\n",
    "print(df_houses.head())"
   ]
  },
  {
   "cell_type": "markdown",
   "metadata": {},
   "source": [
    "### 1. Drop or fill missing values. Consider how to handle the following columns, which have many missing values: `Alley`, `Fence`, `Fireplace Qu`, `Misc Feature`, `Pool QC`."
   ]
  },
  {
   "cell_type": "code",
   "execution_count": 14,
   "metadata": {
    "collapsed": false
   },
   "outputs": [],
   "source": [
    "# Code goes here."
   ]
  },
  {
   "cell_type": "markdown",
   "metadata": {},
   "source": [
    "### 2. Separate the features and the class."
   ]
  },
  {
   "cell_type": "code",
   "execution_count": 15,
   "metadata": {
    "collapsed": true
   },
   "outputs": [],
   "source": [
    "# Code goes here."
   ]
  },
  {
   "cell_type": "markdown",
   "metadata": {},
   "source": [
    "### 3. Transform the features to dummy variables."
   ]
  },
  {
   "cell_type": "code",
   "execution_count": 16,
   "metadata": {
    "collapsed": false
   },
   "outputs": [],
   "source": [
    "# Code goes here."
   ]
  },
  {
   "cell_type": "markdown",
   "metadata": {},
   "source": [
    "### 3. Bin the SalePrice into two outcomes, 'high' or 'low'."
   ]
  },
  {
   "cell_type": "code",
   "execution_count": 17,
   "metadata": {
    "collapsed": false
   },
   "outputs": [],
   "source": [
    "# Code goes here."
   ]
  },
  {
   "cell_type": "markdown",
   "metadata": {},
   "source": [
    "### 4. Split the dataset into 80% training data and 20% testing data. Each row should consist of the features, `X`, and the binned sales price, `y`."
   ]
  },
  {
   "cell_type": "code",
   "execution_count": 18,
   "metadata": {
    "collapsed": false
   },
   "outputs": [],
   "source": [
    "# Code goes here."
   ]
  },
  {
   "cell_type": "markdown",
   "metadata": {},
   "source": [
    "### 5. Fit two models: a 5-nearest neighbors classifier and a 500-nearest neighbors classifier. Fit them both on the training data. Use all of the feature data, excluding the sales price, to predict the binned sales price."
   ]
  },
  {
   "cell_type": "code",
   "execution_count": 19,
   "metadata": {
    "collapsed": false
   },
   "outputs": [],
   "source": [
    "# Code goes here."
   ]
  },
  {
   "cell_type": "markdown",
   "metadata": {},
   "source": [
    "### 6. Compare the accuracy of the _k_-nearest neighbors classifiers on the test data. "
   ]
  },
  {
   "cell_type": "code",
   "execution_count": 20,
   "metadata": {
    "collapsed": false
   },
   "outputs": [],
   "source": [
    "# Code goes here."
   ]
  },
  {
   "cell_type": "markdown",
   "metadata": {},
   "source": [
    "### 7. Fit a Gaussian naive Bayes classifier on the training data. Compare the accuray of the perceptron with the accuracy of the _k_-nearest neighbors classifiers on the test data."
   ]
  },
  {
   "cell_type": "code",
   "execution_count": 21,
   "metadata": {
    "collapsed": false
   },
   "outputs": [],
   "source": [
    "# Code goes here."
   ]
  }
 ],
 "metadata": {
  "kernelspec": {
   "display_name": "Python 3",
   "language": "python",
   "name": "python3"
  },
  "language_info": {
   "codemirror_mode": {
    "name": "ipython",
    "version": 3
   },
   "file_extension": ".py",
   "mimetype": "text/x-python",
   "name": "python",
   "nbconvert_exporter": "python",
   "pygments_lexer": "ipython3",
   "version": "3.5.2"
  }
 },
 "nbformat": 4,
 "nbformat_minor": 0
}
