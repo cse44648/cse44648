{
 "cells": [
  {
   "cell_type": "markdown",
   "metadata": {},
   "source": [
    "# Classification"
   ]
  },
  {
   "cell_type": "markdown",
   "metadata": {},
   "source": [
    "Classification is the supervised learning task of predicting the value of a categorical outcome (\"class\") variable, _y_, given real and/or categorical input (\"feature\") data, _X_. The objective of classification is to learn a model of the data that can be use to predict the correct class variable for new or unseen feature data."
   ]
  },
  {
   "cell_type": "markdown",
   "metadata": {},
   "source": [
    "A variety of classification algorithms exist. These algorithms have been developed under varying assumptions and employ different concepts. Each algorithm may interact with data differently based upon the size, dimensionality, and noise of the dataset, among other characteristics. These algorithms may have varying degrees of interpretability, variability, and bias."
   ]
  },
  {
   "cell_type": "markdown",
   "metadata": {},
   "source": [
    "Here, we'll use the scikit-learn (sklearn) package to expore the use of several classification algorithms. Let's fetch the Iris dataset from the UCI Machine Learning repository."
   ]
  },
  {
   "cell_type": "code",
   "execution_count": 1,
   "metadata": {
    "collapsed": false
   },
   "outputs": [
    {
     "name": "stdout",
     "output_type": "stream",
     "text": [
      "   Sepal Length  Sepal Width\n",
      "0           5.1          3.5\n",
      "1           4.9          3.0\n",
      "2           4.7          3.2\n",
      "3           4.6          3.1\n",
      "4           5.0          3.6\n",
      "\n",
      "0    Iris-setosa\n",
      "1    Iris-setosa\n",
      "2    Iris-setosa\n",
      "3    Iris-setosa\n",
      "4    Iris-setosa\n",
      "Name: Name, dtype: object\n"
     ]
    }
   ],
   "source": [
    "import numpy as np\n",
    "import pandas as pd\n",
    "\n",
    "fileURL = 'http://archive.ics.uci.edu/ml/machine-learning-databases/iris/iris.data'\n",
    "data = pd.read_csv(fileURL, names=['Sepal Length', 'Sepal Width', 'Petal Length', 'Petal Width', 'Name'], header=None)\n",
    "\n",
    "X = data.iloc[:, :2]  # features\n",
    "y = data.iloc[:, -1]  # class\n",
    "\n",
    "print(X.head())\n",
    "print()\n",
    "print(y.head())"
   ]
  },
  {
   "cell_type": "code",
   "execution_count": 2,
   "metadata": {
    "collapsed": false
   },
   "outputs": [
    {
     "name": "stdout",
     "output_type": "stream",
     "text": [
      "[0 0 0 0 0 0 0 0 0 0 0 0 0 0 0 0 0 0 0 0 0 0 0 0 0 0 0 0 0 0 0 0 0 0 0 0 0\n",
      " 0 0 0 0 0 0 0 0 0 0 0 0 0 1 1 1 1 1 1 1 1 1 1 1 1 1 1 1 1 1 1 1 1 1 1 1 1\n",
      " 1 1 1 1 1 1 1 1 1 1 1 1 1 1 1 1 1 1 1 1 1 1 1 1 1 1 2 2 2 2 2 2 2 2 2 2 2\n",
      " 2 2 2 2 2 2 2 2 2 2 2 2 2 2 2 2 2 2 2 2 2 2 2 2 2 2 2 2 2 2 2 2 2 2 2 2 2\n",
      " 2 2]\n"
     ]
    }
   ],
   "source": [
    "from sklearn.preprocessing import LabelEncoder\n",
    "\n",
    "le = LabelEncoder()\n",
    "le.fit(y)\n",
    "y = le.transform(y)\n",
    "print(y)"
   ]
  },
  {
   "cell_type": "markdown",
   "metadata": {},
   "source": [
    "## _k_-Nearest Neighbors"
   ]
  },
  {
   "cell_type": "markdown",
   "metadata": {},
   "source": [
    "One of the simplest classification algorithms is the _k_-nearest neighbors algorithm. Let's import it from `sklearn`. We can call the method with several available inputs. Here, we specify the number of neighbors _k_ to consider."
   ]
  },
  {
   "cell_type": "code",
   "execution_count": 3,
   "metadata": {
    "collapsed": false
   },
   "outputs": [],
   "source": [
    "from sklearn.neighbors import KNeighborsClassifier\n",
    "\n",
    "clf_knn = KNeighborsClassifier(n_neighbors=3)"
   ]
  },
  {
   "cell_type": "markdown",
   "metadata": {},
   "source": [
    "Every classifier in `sklearn` has a `fit()` method. For a supervised learning algorithm, which learns to map features _X_ to classes _y_, we must input the corresponding _X_ and _y_ data."
   ]
  },
  {
   "cell_type": "code",
   "execution_count": 4,
   "metadata": {
    "collapsed": false
   },
   "outputs": [
    {
     "data": {
      "text/plain": [
       "KNeighborsClassifier(algorithm='auto', leaf_size=30, metric='minkowski',\n",
       "           metric_params=None, n_jobs=1, n_neighbors=3, p=2,\n",
       "           weights='uniform')"
      ]
     },
     "execution_count": 4,
     "metadata": {},
     "output_type": "execute_result"
    }
   ],
   "source": [
    "clf_knn.fit(X, y)"
   ]
  },
  {
   "cell_type": "markdown",
   "metadata": {},
   "source": [
    "We call an algorithm fit (or parameterized) to input data a \"model.\" Can now use the fitted model to predict the class _y_ given new features _X_."
   ]
  },
  {
   "cell_type": "markdown",
   "metadata": {},
   "source": [
    "Here, we'll simply see how well the classifier can predict the data on which it was fit. We can predict on feature data using the fitted model's `predict()` method, the output of which are corresponding class predictions:"
   ]
  },
  {
   "cell_type": "code",
   "execution_count": 5,
   "metadata": {
    "collapsed": false
   },
   "outputs": [],
   "source": [
    "y_pred = clf_knn.predict(X)\n",
    "clf_knn.kneighbors(X);"
   ]
  },
  {
   "cell_type": "markdown",
   "metadata": {},
   "source": [
    "We can compare the actual values, `y`, to the predicted values, `y_pred`. Here we compute the fraction of times that they match:"
   ]
  },
  {
   "cell_type": "code",
   "execution_count": 6,
   "metadata": {
    "collapsed": false
   },
   "outputs": [
    {
     "name": "stdout",
     "output_type": "stream",
     "text": [
      "0.853333333333\n"
     ]
    }
   ],
   "source": [
    "print(np.average(y == y_pred))"
   ]
  },
  {
   "cell_type": "code",
   "execution_count": 7,
   "metadata": {
    "collapsed": false
   },
   "outputs": [
    {
     "name": "stdout",
     "output_type": "stream",
     "text": [
      "Sepal Length    6.4\n",
      "Sepal Width     3.2\n",
      "Name: 51, dtype: object Iris-versicolor\n",
      "\n",
      "Sepal Length    6.4\n",
      "Sepal Width     3.2\n",
      "Name: 115, dtype: object Iris-virginica\n"
     ]
    }
   ],
   "source": [
    "print(data.iloc[51, 0:2], data.iloc[51, -1])\n",
    "print()\n",
    "print(data.iloc[115, 0:2], data.iloc[115, -1])"
   ]
  },
  {
   "cell_type": "markdown",
   "metadata": {},
   "source": [
    "Let's try visualizing the results. We can use another Python package, `matplotlib`, to generate these visualizations."
   ]
  },
  {
   "cell_type": "code",
   "execution_count": 8,
   "metadata": {
    "collapsed": false
   },
   "outputs": [],
   "source": [
    "import matplotlib.pyplot as plt\n",
    "from matplotlib.colors import ListedColormap\n",
    "% matplotlib inline"
   ]
  },
  {
   "cell_type": "code",
   "execution_count": 9,
   "metadata": {
    "collapsed": false
   },
   "outputs": [],
   "source": [
    "h = .05  # step size in the mesh\n",
    "\n",
    "# Create color maps\n",
    "cmap_light = ListedColormap(['#FFAAAA', '#AAFFAA', '#AAAAFF'])\n",
    "cmap_bold = ListedColormap(['#FF0000', '#00FF00', '#0000FF'])"
   ]
  },
  {
   "cell_type": "code",
   "execution_count": 10,
   "metadata": {
    "collapsed": false
   },
   "outputs": [
    {
     "data": {
      "text/plain": [
       "<matplotlib.text.Text at 0x119936c88>"
      ]
     },
     "execution_count": 10,
     "metadata": {},
     "output_type": "execute_result"
    },
    {
     "data": {
      "image/png": "[encoded data removed]",
      "text/plain": [
       "<matplotlib.figure.Figure at 0x1192b8eb8>"
      ]
     },
     "metadata": {},
     "output_type": "display_data"
    }
   ],
   "source": [
    "# Plot the decision boundary. For that, we will assign a color to each\n",
    "# point in the mesh [x_min, m_max]x[y_min, y_max].\n",
    "x_min, x_max = X.iloc[:, 0].min() - 1, X.iloc[:, 0].max() + 1\n",
    "y_min, y_max = X.iloc[:, 1].min() - 1, X.iloc[:, 1].max() + 1\n",
    "xx, yy = np.meshgrid(np.arange(x_min, x_max, h),\n",
    "                     np.arange(y_min, y_max, h))\n",
    "Z = clf_knn.predict(np.c_[xx.ravel(), yy.ravel()])\n",
    "\n",
    "# Put the result into a color plot\n",
    "Z = Z.reshape(xx.shape)\n",
    "plt.figure()\n",
    "plt.pcolormesh(xx, yy, Z, cmap=cmap_light)\n",
    "\n",
    "# Plot also the training points\n",
    "plt.scatter(X.iloc[:, 0], X.iloc[:, 1], c=y, cmap=cmap_bold)\n",
    "plt.xlim(xx.min(), xx.max())\n",
    "plt.ylim(yy.min(), yy.max())\n",
    "plt.title(\"3-Nearest Neighbors\")"
   ]
  },
  {
   "cell_type": "markdown",
   "metadata": {},
   "source": [
    "Let's try fitting an visualizing another classifier, Gaussian Naive Byaes."
   ]
  },
  {
   "cell_type": "code",
   "execution_count": 11,
   "metadata": {
    "collapsed": false
   },
   "outputs": [
    {
     "data": {
      "text/plain": [
       "<matplotlib.text.Text at 0x119a57e80>"
      ]
     },
     "execution_count": 11,
     "metadata": {},
     "output_type": "execute_result"
    },
    {
     "data": {
      "image/png": "[encoded data removed]",
      "text/plain": [
       "<matplotlib.figure.Figure at 0x119930e80>"
      ]
     },
     "metadata": {},
     "output_type": "display_data"
    }
   ],
   "source": [
    "from sklearn.naive_bayes import GaussianNB\n",
    "\n",
    "clf_gnb = GaussianNB()\n",
    "clf_gnb.fit(X, y)\n",
    "\n",
    "# Plot the decision boundary. For that, we will assign a color to each\n",
    "# point in the mesh [x_min, m_max]x[y_min, y_max].\n",
    "x_min, x_max = X.iloc[:, 0].min() - 1, X.iloc[:, 0].max() + 1\n",
    "y_min, y_max = X.iloc[:, 1].min() - 1, X.iloc[:, 1].max() + 1\n",
    "xx, yy = np.meshgrid(np.arange(x_min, x_max, h),\n",
    "                     np.arange(y_min, y_max, h))\n",
    "Z = clf_gnb.predict(np.c_[xx.ravel(), yy.ravel()])\n",
    "\n",
    "# Put the result into a color plot\n",
    "Z = Z.reshape(xx.shape)\n",
    "plt.figure()\n",
    "plt.pcolormesh(xx, yy, Z, cmap=cmap_light)\n",
    "\n",
    "# Plot also the training points\n",
    "plt.scatter(X.iloc[:, 0], X.iloc[:, 1], c=y, cmap=cmap_bold)\n",
    "plt.xlim(xx.min(), xx.max())\n",
    "plt.ylim(yy.min(), yy.max())\n",
    "plt.title(\"Gaussian Naive Bayes\")"
   ]
  },
  {
   "cell_type": "markdown",
   "metadata": {},
   "source": [
    "Now, when building a model, we're typically interested in performance on data we haven't yet seen. A simple model that simply memorizes the training data may perform well on the data we've seen but poorly on unseen data. Unless we can evaluate a model on unseen data, we don't know how accurate its predictions may be.\n",
    "\n",
    "To address this issue, we can separate the data into training and testing sets. We can fit the model on the training data and then evaluate it on the separate testing data. `sklearn` provides a convenient function to do this. Let's save 20% of our data for testing, and use the rest for fitting our models."
   ]
  },
  {
   "cell_type": "code",
   "execution_count": 12,
   "metadata": {
    "collapsed": false
   },
   "outputs": [
    {
     "name": "stdout",
     "output_type": "stream",
     "text": [
      "0.633333333333\n",
      "0.666666666667\n"
     ]
    }
   ],
   "source": [
    "from sklearn.model_selection import train_test_split\n",
    "X_train, X_test, y_train, y_test = train_test_split(X, y, test_size=0.2)\n",
    "\n",
    "clf_knn.fit(X_train, y_train)\n",
    "clf_gnb.fit(X_train, y_train)\n",
    "\n",
    "y_pred_knn = clf_knn.predict(X_test)\n",
    "y_pred_gnb = clf_gnb.predict(X_test)\n",
    "\n",
    "print(np.average(y_test == y_pred_knn))\n",
    "print(np.average(y_test == y_pred_gnb))"
   ]
  },
  {
   "cell_type": "markdown",
   "metadata": {},
   "source": [
    "Let's try viewing the results from a decision tree classifier. As decision trees apply axis-parallel splits, we should find that every decision boundary is parallel to an axis; no diagonal decision regions should exist."
   ]
  },
  {
   "cell_type": "code",
   "execution_count": 13,
   "metadata": {
    "collapsed": false
   },
   "outputs": [
    {
     "data": {
      "text/plain": [
       "<matplotlib.text.Text at 0x119d63748>"
      ]
     },
     "execution_count": 13,
     "metadata": {},
     "output_type": "execute_result"
    },
    {
     "data": {
      "image/png": "[encoded data removed]",
      "text/plain": [
       "<matplotlib.figure.Figure at 0x119cc4ef0>"
      ]
     },
     "metadata": {},
     "output_type": "display_data"
    }
   ],
   "source": [
    "from sklearn.tree import DecisionTreeClassifier\n",
    "\n",
    "clf_dtc = DecisionTreeClassifier(max_depth=4)\n",
    "clf_dtc.fit(X, y)\n",
    "\n",
    "# Plot the decision boundary. For that, we will assign a color to each\n",
    "# point in the mesh [x_min, m_max]x[y_min, y_max].\n",
    "x_min, x_max = X.iloc[:, 0].min() - 1, X.iloc[:, 0].max() + 1\n",
    "y_min, y_max = X.iloc[:, 1].min() - 1, X.iloc[:, 1].max() + 1\n",
    "xx, yy = np.meshgrid(np.arange(x_min, x_max, h),\n",
    "                     np.arange(y_min, y_max, h))\n",
    "Z = clf_dtc.predict(np.c_[xx.ravel(), yy.ravel()])\n",
    "\n",
    "# Put the result into a color plot\n",
    "Z = Z.reshape(xx.shape)\n",
    "plt.figure()\n",
    "plt.pcolormesh(xx, yy, Z, cmap=cmap_light)\n",
    "\n",
    "# Plot also the training points\n",
    "plt.scatter(X.iloc[:, 0], X.iloc[:, 1], c=y, cmap=cmap_bold)\n",
    "plt.xlim(xx.min(), xx.max())\n",
    "plt.ylim(yy.min(), yy.max())\n",
    "plt.title(\"Decision Tree Classifier\")"
   ]
  },
  {
   "cell_type": "markdown",
   "metadata": {},
   "source": [
    "Let's try viewing the results from an artificial neural network. A multi-layer neural network is a system of interconnected \"neurons\" that can compute values from inputs by feeding information through the network. A single neuron can be modeled as a perceptron or \"activation unit\" through which a series of features and associated weights are passed. The output of neurons at earlier layers are used as the input to neurons at later ones. The output of the network is computed by applying an output transformation to the inputs of the final layer of neurons.\n",
    "\n",
    "The classifier trains iteratively. At each iteration, the partial derivatives of the loss function with respect to the model parameters are computed to update the parameters. These partial derivatives are then propagated backwards (\"backpropagated\") through the network. As an iterative classifier, we can use `matplotlib`'s animation functions to view how the algorithm learns over the course of many iterations."
   ]
  },
  {
   "cell_type": "code",
   "execution_count": 24,
   "metadata": {
    "collapsed": false
   },
   "outputs": [
    {
     "data": {
      "application/javascript": [
       "/* Put everything inside the global mpl namespace */\n",
       "window.mpl = {};\n",
       "\n",
       "mpl.get_websocket_type = function() {\n",
       "    if (typeof(WebSocket) !== 'undefined') {\n",
       "        return WebSocket;\n",
       "    } else if (typeof(MozWebSocket) !== 'undefined') {\n",
       "        return MozWebSocket;\n",
       "    } else {\n",
       "        alert('Your browser does not have WebSocket support.' +\n",
       "              'Please try Chrome, Safari or Firefox ≥ 6. ' +\n",
       "              'Firefox 4 and 5 are also supported but you ' +\n",
       "              'have to enable WebSockets in about:config.');\n",
       "    };\n",
       "}\n",
       "\n",
       "mpl.figure = function(figure_id, websocket, ondownload, parent_element) {\n",
       "    this.id = figure_id;\n",
       "\n",
       "    this.ws = websocket;\n",
       "\n",
       "    this.supports_binary = (this.ws.binaryType != undefined);\n",
       "\n",
       "    if (!this.supports_binary) {\n",
       "        var warnings = document.getElementById(\"mpl-warnings\");\n",
       "        if (warnings) {\n",
       "            warnings.style.display = 'block';\n",
       "            warnings.textContent = (\n",
       "                \"This browser does not support binary websocket messages. \" +\n",
       "                    \"Performance may be slow.\");\n",
       "        }\n",
       "    }\n",
       "\n",
       "    this.imageObj = new Image();\n",
       "\n",
       "    this.context = undefined;\n",
       "    this.message = undefined;\n",
       "    this.canvas = undefined;\n",
       "    this.rubberband_canvas = undefined;\n",
       "    this.rubberband_context = undefined;\n",
       "    this.format_dropdown = undefined;\n",
       "\n",
       "    this.image_mode = 'full';\n",
       "\n",
       "    this.root = $('<div/>');\n",
       "    this._root_extra_style(this.root)\n",
       "    this.root.attr('style', 'display: inline-block');\n",
       "\n",
       "    $(parent_element).append(this.root);\n",
       "\n",
       "    this._init_header(this);\n",
       "    this._init_canvas(this);\n",
       "    this._init_toolbar(this);\n",
       "\n",
       "    var fig = this;\n",
       "\n",
       "    this.waiting = false;\n",
       "\n",
       "    this.ws.onopen =  function () {\n",
       "            fig.send_message(\"supports_binary\", {value: fig.supports_binary});\n",
       "            fig.send_message(\"send_image_mode\", {});\n",
       "            fig.send_message(\"refresh\", {});\n",
       "        }\n",
       "\n",
       "    this.imageObj.onload = function() {\n",
       "            if (fig.image_mode == 'full') {\n",
       "                // Full images could contain transparency (where diff images\n",
       "                // almost always do), so we need to clear the canvas so that\n",
       "                // there is no ghosting.\n",
       "                fig.context.clearRect(0, 0, fig.canvas.width, fig.canvas.height);\n",
       "            }\n",
       "            fig.context.drawImage(fig.imageObj, 0, 0);\n",
       "        };\n",
       "\n",
       "    this.imageObj.onunload = function() {\n",
       "        this.ws.close();\n",
       "    }\n",
       "\n",
       "    this.ws.onmessage = this._make_on_message_function(this);\n",
       "\n",
       "    this.ondownload = ondownload;\n",
       "}\n",
       "\n",
       "mpl.figure.prototype._init_header = function() {\n",
       "    var titlebar = $(\n",
       "        '<div class=\"ui-dialog-titlebar ui-widget-header ui-corner-all ' +\n",
       "        'ui-helper-clearfix\"/>');\n",
       "    var titletext = $(\n",
       "        '<div class=\"ui-dialog-title\" style=\"width: 100%; ' +\n",
       "        'text-align: center; padding: 3px;\"/>');\n",
       "    titlebar.append(titletext)\n",
       "    this.root.append(titlebar);\n",
       "    this.header = titletext[0];\n",
       "}\n",
       "\n",
       "\n",
       "\n",
       "mpl.figure.prototype._canvas_extra_style = function(canvas_div) {\n",
       "\n",
       "}\n",
       "\n",
       "\n",
       "mpl.figure.prototype._root_extra_style = function(canvas_div) {\n",
       "\n",
       "}\n",
       "\n",
       "mpl.figure.prototype._init_canvas = function() {\n",
       "    var fig = this;\n",
       "\n",
       "    var canvas_div = $('<div/>');\n",
       "\n",
       "    canvas_div.attr('style', 'position: relative; clear: both; outline: 0');\n",
       "\n",
       "    function canvas_keyboard_event(event) {\n",
       "        return fig.key_event(event, event['data']);\n",
       "    }\n",
       "\n",
       "    canvas_div.keydown('key_press', canvas_keyboard_event);\n",
       "    canvas_div.keyup('key_release', canvas_keyboard_event);\n",
       "    this.canvas_div = canvas_div\n",
       "    this._canvas_extra_style(canvas_div)\n",
       "    this.root.append(canvas_div);\n",
       "\n",
       "    var canvas = $('<canvas/>');\n",
       "    canvas.addClass('mpl-canvas');\n",
       "    canvas.attr('style', \"left: 0; top: 0; z-index: 0; outline: 0\")\n",
       "\n",
       "    this.canvas = canvas[0];\n",
       "    this.context = canvas[0].getContext(\"2d\");\n",
       "\n",
       "    var rubberband = $('<canvas/>');\n",
       "    rubberband.attr('style', \"position: absolute; left: 0; top: 0; z-index: 1;\")\n",
       "\n",
       "    var pass_mouse_events = true;\n",
       "\n",
       "    canvas_div.resizable({\n",
       "        start: function(event, ui) {\n",
       "            pass_mouse_events = false;\n",
       "        },\n",
       "        resize: function(event, ui) {\n",
       "            fig.request_resize(ui.size.width, ui.size.height);\n",
       "        },\n",
       "        stop: function(event, ui) {\n",
       "            pass_mouse_events = true;\n",
       "            fig.request_resize(ui.size.width, ui.size.height);\n",
       "        },\n",
       "    });\n",
       "\n",
       "    function mouse_event_fn(event) {\n",
       "        if (pass_mouse_events)\n",
       "            return fig.mouse_event(event, event['data']);\n",
       "    }\n",
       "\n",
       "    rubberband.mousedown('button_press', mouse_event_fn);\n",
       "    rubberband.mouseup('button_release', mouse_event_fn);\n",
       "    // Throttle sequential mouse events to 1 every 20ms.\n",
       "    rubberband.mousemove('motion_notify', mouse_event_fn);\n",
       "\n",
       "    rubberband.mouseenter('figure_enter', mouse_event_fn);\n",
       "    rubberband.mouseleave('figure_leave', mouse_event_fn);\n",
       "\n",
       "    canvas_div.on(\"wheel\", function (event) {\n",
       "        event = event.originalEvent;\n",
       "        event['data'] = 'scroll'\n",
       "        if (event.deltaY < 0) {\n",
       "            event.step = 1;\n",
       "        } else {\n",
       "            event.step = -1;\n",
       "        }\n",
       "        mouse_event_fn(event);\n",
       "    });\n",
       "\n",
       "    canvas_div.append(canvas);\n",
       "    canvas_div.append(rubberband);\n",
       "\n",
       "    this.rubberband = rubberband;\n",
       "    this.rubberband_canvas = rubberband[0];\n",
       "    this.rubberband_context = rubberband[0].getContext(\"2d\");\n",
       "    this.rubberband_context.strokeStyle = \"#000000\";\n",
       "\n",
       "    this._resize_canvas = function(width, height) {\n",
       "        // Keep the size of the canvas, canvas container, and rubber band\n",
       "        // canvas in synch.\n",
       "        canvas_div.css('width', width)\n",
       "        canvas_div.css('height', height)\n",
       "\n",
       "        canvas.attr('width', width);\n",
       "        canvas.attr('height', height);\n",
       "\n",
       "        rubberband.attr('width', width);\n",
       "        rubberband.attr('height', height);\n",
       "    }\n",
       "\n",
       "    // Set the figure to an initial 600x600px, this will subsequently be updated\n",
       "    // upon first draw.\n",
       "    this._resize_canvas(600, 600);\n",
       "\n",
       "    // Disable right mouse context menu.\n",
       "    $(this.rubberband_canvas).bind(\"contextmenu\",function(e){\n",
       "        return false;\n",
       "    });\n",
       "\n",
       "    function set_focus () {\n",
       "        canvas.focus();\n",
       "        canvas_div.focus();\n",
       "    }\n",
       "\n",
       "    window.setTimeout(set_focus, 100);\n",
       "}\n",
       "\n",
       "mpl.figure.prototype._init_toolbar = function() {\n",
       "    var fig = this;\n",
       "\n",
       "    var nav_element = $('<div/>')\n",
       "    nav_element.attr('style', 'width: 100%');\n",
       "    this.root.append(nav_element);\n",
       "\n",
       "    // Define a callback function for later on.\n",
       "    function toolbar_event(event) {\n",
       "        return fig.toolbar_button_onclick(event['data']);\n",
       "    }\n",
       "    function toolbar_mouse_event(event) {\n",
       "        return fig.toolbar_button_onmouseover(event['data']);\n",
       "    }\n",
       "\n",
       "    for(var toolbar_ind in mpl.toolbar_items) {\n",
       "        var name = mpl.toolbar_items[toolbar_ind][0];\n",
       "        var tooltip = mpl.toolbar_items[toolbar_ind][1];\n",
       "        var image = mpl.toolbar_items[toolbar_ind][2];\n",
       "        var method_name = mpl.toolbar_items[toolbar_ind][3];\n",
       "\n",
       "        if (!name) {\n",
       "            // put a spacer in here.\n",
       "            continue;\n",
       "        }\n",
       "        var button = $('<button/>');\n",
       "        button.addClass('ui-button ui-widget ui-state-default ui-corner-all ' +\n",
       "                        'ui-button-icon-only');\n",
       "        button.attr('role', 'button');\n",
       "        button.attr('aria-disabled', 'false');\n",
       "        button.click(method_name, toolbar_event);\n",
       "        button.mouseover(tooltip, toolbar_mouse_event);\n",
       "\n",
       "        var icon_img = $('<span/>');\n",
       "        icon_img.addClass('ui-button-icon-primary ui-icon');\n",
       "        icon_img.addClass(image);\n",
       "        icon_img.addClass('ui-corner-all');\n",
       "\n",
       "        var tooltip_span = $('<span/>');\n",
       "        tooltip_span.addClass('ui-button-text');\n",
       "        tooltip_span.html(tooltip);\n",
       "\n",
       "        button.append(icon_img);\n",
       "        button.append(tooltip_span);\n",
       "\n",
       "        nav_element.append(button);\n",
       "    }\n",
       "\n",
       "    var fmt_picker_span = $('<span/>');\n",
       "\n",
       "    var fmt_picker = $('<select/>');\n",
       "    fmt_picker.addClass('mpl-toolbar-option ui-widget ui-widget-content');\n",
       "    fmt_picker_span.append(fmt_picker);\n",
       "    nav_element.append(fmt_picker_span);\n",
       "    this.format_dropdown = fmt_picker[0];\n",
       "\n",
       "    for (var ind in mpl.extensions) {\n",
       "        var fmt = mpl.extensions[ind];\n",
       "        var option = $(\n",
       "            '<option/>', {selected: fmt === mpl.default_extension}).html(fmt);\n",
       "        fmt_picker.append(option)\n",
       "    }\n",
       "\n",
       "    // Add hover states to the ui-buttons\n",
       "    $( \".ui-button\" ).hover(\n",
       "        function() { $(this).addClass(\"ui-state-hover\");},\n",
       "        function() { $(this).removeClass(\"ui-state-hover\");}\n",
       "    );\n",
       "\n",
       "    var status_bar = $('<span class=\"mpl-message\"/>');\n",
       "    nav_element.append(status_bar);\n",
       "    this.message = status_bar[0];\n",
       "}\n",
       "\n",
       "mpl.figure.prototype.request_resize = function(x_pixels, y_pixels) {\n",
       "    // Request matplotlib to resize the figure. Matplotlib will then trigger a resize in the client,\n",
       "    // which will in turn request a refresh of the image.\n",
       "    this.send_message('resize', {'width': x_pixels, 'height': y_pixels});\n",
       "}\n",
       "\n",
       "mpl.figure.prototype.send_message = function(type, properties) {\n",
       "    properties['type'] = type;\n",
       "    properties['figure_id'] = this.id;\n",
       "    this.ws.send(JSON.stringify(properties));\n",
       "}\n",
       "\n",
       "mpl.figure.prototype.send_draw_message = function() {\n",
       "    if (!this.waiting) {\n",
       "        this.waiting = true;\n",
       "        this.ws.send(JSON.stringify({type: \"draw\", figure_id: this.id}));\n",
       "    }\n",
       "}\n",
       "\n",
       "\n",
       "mpl.figure.prototype.handle_save = function(fig, msg) {\n",
       "    var format_dropdown = fig.format_dropdown;\n",
       "    var format = format_dropdown.options[format_dropdown.selectedIndex].value;\n",
       "    fig.ondownload(fig, format);\n",
       "}\n",
       "\n",
       "\n",
       "mpl.figure.prototype.handle_resize = function(fig, msg) {\n",
       "    var size = msg['size'];\n",
       "    if (size[0] != fig.canvas.width || size[1] != fig.canvas.height) {\n",
       "        fig._resize_canvas(size[0], size[1]);\n",
       "        fig.send_message(\"refresh\", {});\n",
       "    };\n",
       "}\n",
       "\n",
       "mpl.figure.prototype.handle_rubberband = function(fig, msg) {\n",
       "    var x0 = msg['x0'];\n",
       "    var y0 = fig.canvas.height - msg['y0'];\n",
       "    var x1 = msg['x1'];\n",
       "    var y1 = fig.canvas.height - msg['y1'];\n",
       "    x0 = Math.floor(x0) + 0.5;\n",
       "    y0 = Math.floor(y0) + 0.5;\n",
       "    x1 = Math.floor(x1) + 0.5;\n",
       "    y1 = Math.floor(y1) + 0.5;\n",
       "    var min_x = Math.min(x0, x1);\n",
       "    var min_y = Math.min(y0, y1);\n",
       "    var width = Math.abs(x1 - x0);\n",
       "    var height = Math.abs(y1 - y0);\n",
       "\n",
       "    fig.rubberband_context.clearRect(\n",
       "        0, 0, fig.canvas.width, fig.canvas.height);\n",
       "\n",
       "    fig.rubberband_context.strokeRect(min_x, min_y, width, height);\n",
       "}\n",
       "\n",
       "mpl.figure.prototype.handle_figure_label = function(fig, msg) {\n",
       "    // Updates the figure title.\n",
       "    fig.header.textContent = msg['label'];\n",
       "}\n",
       "\n",
       "mpl.figure.prototype.handle_cursor = function(fig, msg) {\n",
       "    var cursor = msg['cursor'];\n",
       "    switch(cursor)\n",
       "    {\n",
       "    case 0:\n",
       "        cursor = 'pointer';\n",
       "        break;\n",
       "    case 1:\n",
       "        cursor = 'default';\n",
       "        break;\n",
       "    case 2:\n",
       "        cursor = 'crosshair';\n",
       "        break;\n",
       "    case 3:\n",
       "        cursor = 'move';\n",
       "        break;\n",
       "    }\n",
       "    fig.rubberband_canvas.style.cursor = cursor;\n",
       "}\n",
       "\n",
       "mpl.figure.prototype.handle_message = function(fig, msg) {\n",
       "    fig.message.textContent = msg['message'];\n",
       "}\n",
       "\n",
       "mpl.figure.prototype.handle_draw = function(fig, msg) {\n",
       "    // Request the server to send over a new figure.\n",
       "    fig.send_draw_message();\n",
       "}\n",
       "\n",
       "mpl.figure.prototype.handle_image_mode = function(fig, msg) {\n",
       "    fig.image_mode = msg['mode'];\n",
       "}\n",
       "\n",
       "mpl.figure.prototype.updated_canvas_event = function() {\n",
       "    // Called whenever the canvas gets updated.\n",
       "    this.send_message(\"ack\", {});\n",
       "}\n",
       "\n",
       "// A function to construct a web socket function for onmessage handling.\n",
       "// Called in the figure constructor.\n",
       "mpl.figure.prototype._make_on_message_function = function(fig) {\n",
       "    return function socket_on_message(evt) {\n",
       "        if (evt.data instanceof Blob) {\n",
       "            /* FIXME: We get \"Resource interpreted as Image but\n",
       "             * transferred with MIME type text/plain:\" errors on\n",
       "             * Chrome.  But how to set the MIME type?  It doesn't seem\n",
       "             * to be part of the websocket stream */\n",
       "            evt.data.type = \"image/png\";\n",
       "\n",
       "            /* Free the memory for the previous frames */\n",
       "            if (fig.imageObj.src) {\n",
       "                (window.URL || window.webkitURL).revokeObjectURL(\n",
       "                    fig.imageObj.src);\n",
       "            }\n",
       "\n",
       "            fig.imageObj.src = (window.URL || window.webkitURL).createObjectURL(\n",
       "                evt.data);\n",
       "            fig.updated_canvas_event();\n",
       "            fig.waiting = false;\n",
       "            return;\n",
       "        }\n",
       "        else if (typeof evt.data === 'string' && evt.data.slice(0, 21) == \"data:image/png;base64\") {\n",
       "            fig.imageObj.src = evt.data;\n",
       "            fig.updated_canvas_event();\n",
       "            fig.waiting = false;\n",
       "            return;\n",
       "        }\n",
       "\n",
       "        var msg = JSON.parse(evt.data);\n",
       "        var msg_type = msg['type'];\n",
       "\n",
       "        // Call the  \"handle_{type}\" callback, which takes\n",
       "        // the figure and JSON message as its only arguments.\n",
       "        try {\n",
       "            var callback = fig[\"handle_\" + msg_type];\n",
       "        } catch (e) {\n",
       "            console.log(\"No handler for the '\" + msg_type + \"' message type: \", msg);\n",
       "            return;\n",
       "        }\n",
       "\n",
       "        if (callback) {\n",
       "            try {\n",
       "                // console.log(\"Handling '\" + msg_type + \"' message: \", msg);\n",
       "                callback(fig, msg);\n",
       "            } catch (e) {\n",
       "                console.log(\"Exception inside the 'handler_\" + msg_type + \"' callback:\", e, e.stack, msg);\n",
       "            }\n",
       "        }\n",
       "    };\n",
       "}\n",
       "\n",
       "// from http://stackoverflow.com/questions/1114465/getting-mouse-location-in-canvas\n",
       "mpl.findpos = function(e) {\n",
       "    //this section is from http://www.quirksmode.org/js/events_properties.html\n",
       "    var targ;\n",
       "    if (!e)\n",
       "        e = window.event;\n",
       "    if (e.target)\n",
       "        targ = e.target;\n",
       "    else if (e.srcElement)\n",
       "        targ = e.srcElement;\n",
       "    if (targ.nodeType == 3) // defeat Safari bug\n",
       "        targ = targ.parentNode;\n",
       "\n",
       "    // jQuery normalizes the pageX and pageY\n",
       "    // pageX,Y are the mouse positions relative to the document\n",
       "    // offset() returns the position of the element relative to the document\n",
       "    var x = e.pageX - $(targ).offset().left;\n",
       "    var y = e.pageY - $(targ).offset().top;\n",
       "\n",
       "    return {\"x\": x, \"y\": y};\n",
       "};\n",
       "\n",
       "/*\n",
       " * return a copy of an object with only non-object keys\n",
       " * we need this to avoid circular references\n",
       " * http://stackoverflow.com/a/24161582/3208463\n",
       " */\n",
       "function simpleKeys (original) {\n",
       "  return Object.keys(original).reduce(function (obj, key) {\n",
       "    if (typeof original[key] !== 'object')\n",
       "        obj[key] = original[key]\n",
       "    return obj;\n",
       "  }, {});\n",
       "}\n",
       "\n",
       "mpl.figure.prototype.mouse_event = function(event, name) {\n",
       "    var canvas_pos = mpl.findpos(event)\n",
       "\n",
       "    if (name === 'button_press')\n",
       "    {\n",
       "        this.canvas.focus();\n",
       "        this.canvas_div.focus();\n",
       "    }\n",
       "\n",
       "    var x = canvas_pos.x;\n",
       "    var y = canvas_pos.y;\n",
       "\n",
       "    this.send_message(name, {x: x, y: y, button: event.button,\n",
       "                             step: event.step,\n",
       "                             guiEvent: simpleKeys(event)});\n",
       "\n",
       "    /* This prevents the web browser from automatically changing to\n",
       "     * the text insertion cursor when the button is pressed.  We want\n",
       "     * to control all of the cursor setting manually through the\n",
       "     * 'cursor' event from matplotlib */\n",
       "    event.preventDefault();\n",
       "    return false;\n",
       "}\n",
       "\n",
       "mpl.figure.prototype._key_event_extra = function(event, name) {\n",
       "    // Handle any extra behaviour associated with a key event\n",
       "}\n",
       "\n",
       "mpl.figure.prototype.key_event = function(event, name) {\n",
       "\n",
       "    // Prevent repeat events\n",
       "    if (name == 'key_press')\n",
       "    {\n",
       "        if (event.which === this._key)\n",
       "            return;\n",
       "        else\n",
       "            this._key = event.which;\n",
       "    }\n",
       "    if (name == 'key_release')\n",
       "        this._key = null;\n",
       "\n",
       "    var value = '';\n",
       "    if (event.ctrlKey && event.which != 17)\n",
       "        value += \"ctrl+\";\n",
       "    if (event.altKey && event.which != 18)\n",
       "        value += \"alt+\";\n",
       "    if (event.shiftKey && event.which != 16)\n",
       "        value += \"shift+\";\n",
       "\n",
       "    value += 'k';\n",
       "    value += event.which.toString();\n",
       "\n",
       "    this._key_event_extra(event, name);\n",
       "\n",
       "    this.send_message(name, {key: value,\n",
       "                             guiEvent: simpleKeys(event)});\n",
       "    return false;\n",
       "}\n",
       "\n",
       "mpl.figure.prototype.toolbar_button_onclick = function(name) {\n",
       "    if (name == 'download') {\n",
       "        this.handle_save(this, null);\n",
       "    } else {\n",
       "        this.send_message(\"toolbar_button\", {name: name});\n",
       "    }\n",
       "};\n",
       "\n",
       "mpl.figure.prototype.toolbar_button_onmouseover = function(tooltip) {\n",
       "    this.message.textContent = tooltip;\n",
       "};\n",
       "mpl.toolbar_items = [[\"Home\", \"Reset original view\", \"fa fa-home icon-home\", \"home\"], [\"Back\", \"Back to  previous view\", \"fa fa-arrow-left icon-arrow-left\", \"back\"], [\"Forward\", \"Forward to next view\", \"fa fa-arrow-right icon-arrow-right\", \"forward\"], [\"\", \"\", \"\", \"\"], [\"Pan\", \"Pan axes with left mouse, zoom with right\", \"fa fa-arrows icon-move\", \"pan\"], [\"Zoom\", \"Zoom to rectangle\", \"fa fa-square-o icon-check-empty\", \"zoom\"], [\"\", \"\", \"\", \"\"], [\"Download\", \"Download plot\", \"fa fa-floppy-o icon-save\", \"download\"]];\n",
       "\n",
       "mpl.extensions = [\"eps\", \"jpeg\", \"pdf\", \"png\", \"ps\", \"raw\", \"svg\", \"tif\"];\n",
       "\n",
       "mpl.default_extension = \"png\";var comm_websocket_adapter = function(comm) {\n",
       "    // Create a \"websocket\"-like object which calls the given IPython comm\n",
       "    // object with the appropriate methods. Currently this is a non binary\n",
       "    // socket, so there is still some room for performance tuning.\n",
       "    var ws = {};\n",
       "\n",
       "    ws.close = function() {\n",
       "        comm.close()\n",
       "    };\n",
       "    ws.send = function(m) {\n",
       "        //console.log('sending', m);\n",
       "        comm.send(m);\n",
       "    };\n",
       "    // Register the callback with on_msg.\n",
       "    comm.on_msg(function(msg) {\n",
       "        //console.log('receiving', msg['content']['data'], msg);\n",
       "        // Pass the mpl event to the overriden (by mpl) onmessage function.\n",
       "        ws.onmessage(msg['content']['data'])\n",
       "    });\n",
       "    return ws;\n",
       "}\n",
       "\n",
       "mpl.mpl_figure_comm = function(comm, msg) {\n",
       "    // This is the function which gets called when the mpl process\n",
       "    // starts-up an IPython Comm through the \"matplotlib\" channel.\n",
       "\n",
       "    var id = msg.content.data.id;\n",
       "    // Get hold of the div created by the display call when the Comm\n",
       "    // socket was opened in Python.\n",
       "    var element = $(\"#\" + id);\n",
       "    var ws_proxy = comm_websocket_adapter(comm)\n",
       "\n",
       "    function ondownload(figure, format) {\n",
       "        window.open(figure.imageObj.src);\n",
       "    }\n",
       "\n",
       "    var fig = new mpl.figure(id, ws_proxy,\n",
       "                           ondownload,\n",
       "                           element.get(0));\n",
       "\n",
       "    // Call onopen now - mpl needs it, as it is assuming we've passed it a real\n",
       "    // web socket which is closed, not our websocket->open comm proxy.\n",
       "    ws_proxy.onopen();\n",
       "\n",
       "    fig.parent_element = element.get(0);\n",
       "    fig.cell_info = mpl.find_output_cell(\"<div id='\" + id + \"'></div>\");\n",
       "    if (!fig.cell_info) {\n",
       "        console.error(\"Failed to find cell for figure\", id, fig);\n",
       "        return;\n",
       "    }\n",
       "\n",
       "    var output_index = fig.cell_info[2]\n",
       "    var cell = fig.cell_info[0];\n",
       "\n",
       "};\n",
       "\n",
       "mpl.figure.prototype.handle_close = function(fig, msg) {\n",
       "    fig.root.unbind('remove')\n",
       "\n",
       "    // Update the output cell to use the data from the current canvas.\n",
       "    fig.push_to_output();\n",
       "    var dataURL = fig.canvas.toDataURL();\n",
       "    // Re-enable the keyboard manager in IPython - without this line, in FF,\n",
       "    // the notebook keyboard shortcuts fail.\n",
       "    IPython.keyboard_manager.enable()\n",
       "    $(fig.parent_element).html('<img src=\"' + dataURL + '\">');\n",
       "    fig.close_ws(fig, msg);\n",
       "}\n",
       "\n",
       "mpl.figure.prototype.close_ws = function(fig, msg){\n",
       "    fig.send_message('closing', msg);\n",
       "    // fig.ws.close()\n",
       "}\n",
       "\n",
       "mpl.figure.prototype.push_to_output = function(remove_interactive) {\n",
       "    // Turn the data on the canvas into data in the output cell.\n",
       "    var dataURL = this.canvas.toDataURL();\n",
       "    this.cell_info[1]['text/html'] = '<img src=\"' + dataURL + '\">';\n",
       "}\n",
       "\n",
       "mpl.figure.prototype.updated_canvas_event = function() {\n",
       "    // Tell IPython that the notebook contents must change.\n",
       "    IPython.notebook.set_dirty(true);\n",
       "    this.send_message(\"ack\", {});\n",
       "    var fig = this;\n",
       "    // Wait a second, then push the new image to the DOM so\n",
       "    // that it is saved nicely (might be nice to debounce this).\n",
       "    setTimeout(function () { fig.push_to_output() }, 1000);\n",
       "}\n",
       "\n",
       "mpl.figure.prototype._init_toolbar = function() {\n",
       "    var fig = this;\n",
       "\n",
       "    var nav_element = $('<div/>')\n",
       "    nav_element.attr('style', 'width: 100%');\n",
       "    this.root.append(nav_element);\n",
       "\n",
       "    // Define a callback function for later on.\n",
       "    function toolbar_event(event) {\n",
       "        return fig.toolbar_button_onclick(event['data']);\n",
       "    }\n",
       "    function toolbar_mouse_event(event) {\n",
       "        return fig.toolbar_button_onmouseover(event['data']);\n",
       "    }\n",
       "\n",
       "    for(var toolbar_ind in mpl.toolbar_items){\n",
       "        var name = mpl.toolbar_items[toolbar_ind][0];\n",
       "        var tooltip = mpl.toolbar_items[toolbar_ind][1];\n",
       "        var image = mpl.toolbar_items[toolbar_ind][2];\n",
       "        var method_name = mpl.toolbar_items[toolbar_ind][3];\n",
       "\n",
       "        if (!name) { continue; };\n",
       "\n",
       "        var button = $('<button class=\"btn btn-default\" href=\"#\" title=\"' + name + '\"><i class=\"fa ' + image + ' fa-lg\"></i></button>');\n",
       "        button.click(method_name, toolbar_event);\n",
       "        button.mouseover(tooltip, toolbar_mouse_event);\n",
       "        nav_element.append(button);\n",
       "    }\n",
       "\n",
       "    // Add the status bar.\n",
       "    var status_bar = $('<span class=\"mpl-message\" style=\"text-align:right; float: right;\"/>');\n",
       "    nav_element.append(status_bar);\n",
       "    this.message = status_bar[0];\n",
       "\n",
       "    // Add the close button to the window.\n",
       "    var buttongrp = $('<div class=\"btn-group inline pull-right\"></div>');\n",
       "    var button = $('<button class=\"btn btn-mini btn-primary\" href=\"#\" title=\"Stop Interaction\"><i class=\"fa fa-power-off icon-remove icon-large\"></i></button>');\n",
       "    button.click(function (evt) { fig.handle_close(fig, {}); } );\n",
       "    button.mouseover('Stop Interaction', toolbar_mouse_event);\n",
       "    buttongrp.append(button);\n",
       "    var titlebar = this.root.find($('.ui-dialog-titlebar'));\n",
       "    titlebar.prepend(buttongrp);\n",
       "}\n",
       "\n",
       "mpl.figure.prototype._root_extra_style = function(el){\n",
       "    var fig = this\n",
       "    el.on(\"remove\", function(){\n",
       "\tfig.close_ws(fig, {});\n",
       "    });\n",
       "}\n",
       "\n",
       "mpl.figure.prototype._canvas_extra_style = function(el){\n",
       "    // this is important to make the div 'focusable\n",
       "    el.attr('tabindex', 0)\n",
       "    // reach out to IPython and tell the keyboard manager to turn it's self\n",
       "    // off when our div gets focus\n",
       "\n",
       "    // location in version 3\n",
       "    if (IPython.notebook.keyboard_manager) {\n",
       "        IPython.notebook.keyboard_manager.register_events(el);\n",
       "    }\n",
       "    else {\n",
       "        // location in version 2\n",
       "        IPython.keyboard_manager.register_events(el);\n",
       "    }\n",
       "\n",
       "}\n",
       "\n",
       "mpl.figure.prototype._key_event_extra = function(event, name) {\n",
       "    var manager = IPython.notebook.keyboard_manager;\n",
       "    if (!manager)\n",
       "        manager = IPython.keyboard_manager;\n",
       "\n",
       "    // Check for shift+enter\n",
       "    if (event.shiftKey && event.which == 13) {\n",
       "        this.canvas_div.blur();\n",
       "        event.shiftKey = false;\n",
       "        // Send a \"J\" for go to next cell\n",
       "        event.which = 74;\n",
       "        event.keyCode = 74;\n",
       "        manager.command_mode();\n",
       "        manager.handle_keydown(event);\n",
       "    }\n",
       "}\n",
       "\n",
       "mpl.figure.prototype.handle_save = function(fig, msg) {\n",
       "    fig.ondownload(fig, null);\n",
       "}\n",
       "\n",
       "\n",
       "mpl.find_output_cell = function(html_output) {\n",
       "    // Return the cell and output element which can be found *uniquely* in the notebook.\n",
       "    // Note - this is a bit hacky, but it is done because the \"notebook_saving.Notebook\"\n",
       "    // IPython event is triggered only after the cells have been serialised, which for\n",
       "    // our purposes (turning an active figure into a static one), is too late.\n",
       "    var cells = IPython.notebook.get_cells();\n",
       "    var ncells = cells.length;\n",
       "    for (var i=0; i<ncells; i++) {\n",
       "        var cell = cells[i];\n",
       "        if (cell.cell_type === 'code'){\n",
       "            for (var j=0; j<cell.output_area.outputs.length; j++) {\n",
       "                var data = cell.output_area.outputs[j];\n",
       "                if (data.data) {\n",
       "                    // IPython >= 3 moved mimebundle to data attribute of output\n",
       "                    data = data.data;\n",
       "                }\n",
       "                if (data['text/html'] == html_output) {\n",
       "                    return [cell, data, j];\n",
       "                }\n",
       "            }\n",
       "        }\n",
       "    }\n",
       "}\n",
       "\n",
       "// Register the function which deals with the matplotlib target/channel.\n",
       "// The kernel may be null if the page has been refreshed.\n",
       "if (IPython.notebook.kernel != null) {\n",
       "    IPython.notebook.kernel.comm_manager.register_target('matplotlib', mpl.mpl_figure_comm);\n",
       "}\n"
      ],
      "text/plain": [
       "<IPython.core.display.Javascript object>"
      ]
     },
     "metadata": {},
     "output_type": "display_data"
    },
    {
     "data": {
      "text/html": [
       "<img src=\"data:image/png;base64,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\">"
      ],
      "text/plain": [
       "<IPython.core.display.HTML object>"
      ]
     },
     "metadata": {},
     "output_type": "display_data"
    }
   ],
   "source": [
    "%matplotlib notebook\n",
    "\n",
    "from IPython.display import HTML\n",
    "from matplotlib import animation, rc\n",
    "from sklearn.neural_network import MLPClassifier\n",
    "\n",
    "# First set up the figure, the axis, and plot elements.\n",
    "fig, ax = plt.subplots()\n",
    "ax.set_xlim(xx.min(), xx.max())\n",
    "ax.set_ylim(yy.min(), yy.max())\n",
    "ax.set_title(\"Multilayer Perceptron Classifier\")\n",
    "\n",
    "clf_mlp = MLPClassifier(hidden_layer_sizes=(10,), max_iter=1)\n",
    "\n",
    "# Initialization function.\n",
    "def init():\n",
    "    clf_mlp.partial_fit(X, y, classes=np.unique(y))\n",
    "\n",
    "# Animation function. This is called sequentially.\n",
    "def animate(i):\n",
    "    clf_mlp.partial_fit(X, y)\n",
    "\n",
    "    # Plot the decision boundary.\n",
    "    x_min, x_max = X.iloc[:, 0].min() - 1, X.iloc[:, 0].max() + 1\n",
    "    y_min, y_max = X.iloc[:, 1].min() - 1, X.iloc[:, 1].max() + 1\n",
    "    xx, yy = np.meshgrid(np.arange(x_min, x_max, h),\n",
    "                         np.arange(y_min, y_max, h))\n",
    "    Z = clf_mlp.predict(np.c_[xx.ravel(), yy.ravel()])\n",
    "\n",
    "    # Put the result into a color plot.\n",
    "    Z = Z.reshape(xx.shape)\n",
    "    ax.pcolormesh(xx, yy, Z, cmap=cmap_light)\n",
    "\n",
    "    # Plot the training points.\n",
    "    ax.scatter(X.iloc[:, 0], X.iloc[:, 1], c=y, cmap=cmap_bold)\n",
    "    \n",
    "    return ax\n",
    "\n",
    "# Call the animator.\n",
    "anim = animation.FuncAnimation(fig, animate, init_func=init,\n",
    "                               frames=1, interval=1)\n",
    "\n",
    "HTML(anim.to_html5_video());"
   ]
  },
  {
   "cell_type": "markdown",
   "metadata": {
    "collapsed": false
   },
   "source": [
    "## Housing Dataset"
   ]
  },
  {
   "cell_type": "markdown",
   "metadata": {},
   "source": [
    "Let's practice applying what we've learned to a house price dataset for Ames, Iowa."
   ]
  },
  {
   "cell_type": "code",
   "execution_count": 15,
   "metadata": {
    "collapsed": false
   },
   "outputs": [
    {
     "name": "stdout",
     "output_type": "stream",
     "text": [
      "   Order        PID  MS SubClass MS Zoning  Lot Frontage  Lot Area Street  \\\n",
      "0      1  526301100           20        RL           141     31770   Pave   \n",
      "1      2  526350040           20        RH            80     11622   Pave   \n",
      "2      3  526351010           20        RL            81     14267   Pave   \n",
      "3      4  526353030           20        RL            93     11160   Pave   \n",
      "4      5  527105010           60        RL            74     13830   Pave   \n",
      "\n",
      "  Alley Lot Shape Land Contour    ...     Pool Area Pool QC  Fence  \\\n",
      "0   NaN       IR1          Lvl    ...             0     NaN    NaN   \n",
      "1   NaN       Reg          Lvl    ...             0     NaN  MnPrv   \n",
      "2   NaN       IR1          Lvl    ...             0     NaN    NaN   \n",
      "3   NaN       Reg          Lvl    ...             0     NaN    NaN   \n",
      "4   NaN       IR1          Lvl    ...             0     NaN  MnPrv   \n",
      "\n",
      "  Misc Feature Misc Val Mo Sold Yr Sold Sale Type  Sale Condition  SalePrice  \n",
      "0          NaN        0       5    2010       WD           Normal     215000  \n",
      "1          NaN        0       6    2010       WD           Normal     105000  \n",
      "2         Gar2    12500       6    2010       WD           Normal     172000  \n",
      "3          NaN        0       4    2010       WD           Normal     244000  \n",
      "4          NaN        0       3    2010       WD           Normal     189900  \n",
      "\n",
      "[5 rows x 82 columns]\n"
     ]
    }
   ],
   "source": [
    "df_houses = pd.read_excel('http://www.amstat.org/publications/jse/v19n3/decock/AmesHousing.xls')\n",
    "print(df_houses.head())"
   ]
  },
  {
   "cell_type": "markdown",
   "metadata": {},
   "source": [
    "### 1. Drop or fill missing values. Consider how to handle the following columns, which have many missing values: `Alley`, `Fence`, `Fireplace Qu`, `Misc Feature`, `Pool QC`."
   ]
  },
  {
   "cell_type": "code",
   "execution_count": 16,
   "metadata": {
    "collapsed": false
   },
   "outputs": [],
   "source": [
    "# Code goes here."
   ]
  },
  {
   "cell_type": "markdown",
   "metadata": {},
   "source": [
    "### 2. Separate the features and the class."
   ]
  },
  {
   "cell_type": "code",
   "execution_count": 17,
   "metadata": {
    "collapsed": true
   },
   "outputs": [],
   "source": [
    "# Code goes here."
   ]
  },
  {
   "cell_type": "markdown",
   "metadata": {},
   "source": [
    "### 3. Transform the features to dummy variables."
   ]
  },
  {
   "cell_type": "code",
   "execution_count": 18,
   "metadata": {
    "collapsed": false
   },
   "outputs": [],
   "source": [
    "# Code goes here."
   ]
  },
  {
   "cell_type": "markdown",
   "metadata": {},
   "source": [
    "### 3. Bin the SalePrice into two outcomes, 'high' or 'low'."
   ]
  },
  {
   "cell_type": "code",
   "execution_count": 19,
   "metadata": {
    "collapsed": false
   },
   "outputs": [],
   "source": [
    "# Code goes here."
   ]
  },
  {
   "cell_type": "markdown",
   "metadata": {},
   "source": [
    "### 4. Split the dataset into 80% training data and 20% testing data. Each row should consist of the features, `X`, and the binned sales price, `y`."
   ]
  },
  {
   "cell_type": "code",
   "execution_count": 20,
   "metadata": {
    "collapsed": false
   },
   "outputs": [],
   "source": [
    "# Code goes here."
   ]
  },
  {
   "cell_type": "markdown",
   "metadata": {},
   "source": [
    "### 5. Fit two models: a 5-nearest neighbors classifier and a 500-nearest neighbors classifier. Fit them both on the training data. Use all of the feature data, excluding the sales price, to predict the binned sales price."
   ]
  },
  {
   "cell_type": "code",
   "execution_count": 21,
   "metadata": {
    "collapsed": false
   },
   "outputs": [],
   "source": [
    "# Code goes here."
   ]
  },
  {
   "cell_type": "markdown",
   "metadata": {},
   "source": [
    "### 6. Compare the accuracy of the _k_-nearest neighbors classifiers on the test data. "
   ]
  },
  {
   "cell_type": "code",
   "execution_count": 22,
   "metadata": {
    "collapsed": false
   },
   "outputs": [],
   "source": [
    "# Code goes here."
   ]
  },
  {
   "cell_type": "markdown",
   "metadata": {},
   "source": [
    "### 7. Fit a Gaussian naive Bayes classifier on the training data. Compare the accuray of the perceptron with the accuracy of the _k_-nearest neighbors classifiers on the test data."
   ]
  },
  {
   "cell_type": "code",
   "execution_count": 23,
   "metadata": {
    "collapsed": false
   },
   "outputs": [],
   "source": [
    "# Code goes here."
   ]
  }
 ],
 "metadata": {
  "kernelspec": {
   "display_name": "Python 3",
   "language": "python",
   "name": "python3"
  },
  "language_info": {
   "codemirror_mode": {
    "name": "ipython",
    "version": 3
   },
   "file_extension": ".py",
   "mimetype": "text/x-python",
   "name": "python",
   "nbconvert_exporter": "python",
   "pygments_lexer": "ipython3",
   "version": "3.5.2"
  }
 },
 "nbformat": 4,
 "nbformat_minor": 0
}
